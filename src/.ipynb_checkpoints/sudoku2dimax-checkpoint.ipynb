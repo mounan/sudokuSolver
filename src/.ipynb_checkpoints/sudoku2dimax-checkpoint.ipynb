{
 "cells": [
  {
   "cell_type": "markdown",
   "metadata": {},
   "source": [
    "### Get the name of the sudoku file"
   ]
  },
  {
   "cell_type": "code",
   "execution_count": 10,
   "metadata": {},
   "outputs": [],
   "source": [
    "\n",
    "txt = \"../test_game/sudoku2.txt\""
   ]
  },
  {
   "cell_type": "code",
   "execution_count": 11,
   "metadata": {},
   "outputs": [
    {
     "name": "stdout",
     "output_type": "stream",
     "text": [
      "../test_game/sudoku2.cnf\n"
     ]
    }
   ],
   "source": [
    "puzzle = open(txt, \"r\")\n",
    "cnf = txt.replace(\"txt\", \"cnf\")\n",
    "dimacs = open(cnf, \"w\")\n",
    "print(cnf)"
   ]
  },
  {
   "cell_type": "markdown",
   "metadata": {},
   "source": [
    "###  A function return the index of vars"
   ]
  },
  {
   "cell_type": "code",
   "execution_count": 12,
   "metadata": {},
   "outputs": [],
   "source": [
    "def s(x, y, z):\n",
    "    return 100 * x + 10 * y + z"
   ]
  },
  {
   "cell_type": "markdown",
   "metadata": {},
   "source": [
    "### Read the puzzle and fill up the list for the preassigned_entries"
   ]
  },
  {
   "cell_type": "code",
   "execution_count": 13,
   "metadata": {},
   "outputs": [
    {
     "name": "stdout",
     "output_type": "stream",
     "text": [
      "[127, 145, 164, 182, 277, 316, 334, 371, 399, 443, 469, 529, 532, 575, 588, 642, 665, 714, 731, 776, 798, 836, 923, 948, 966, 989]\n"
     ]
    }
   ],
   "source": [
    "preassigned_entries = []\n",
    "\n",
    "row_number = 1\n",
    "column_number = 0\n",
    "\n",
    "for _ in range(1, 10):\n",
    "    line = puzzle.readline()\n",
    "    digits = line.split()\n",
    "    column_number = 0\n",
    "    for digit in digits:\n",
    "        column_number += 1\n",
    "        if digit != \"x\":\n",
    "            preassigned_entries.append(\n",
    "                s(row_number, column_number, int(digit))\n",
    "            )\n",
    "    row_number += 1\n",
    "print(preassigned_entries)"
   ]
  },
  {
   "cell_type": "markdown",
   "metadata": {},
   "source": [
    "### A DIMACS file begins with a line containing 'p' followed by 'cnf', the number of variables, and the number of clauses"
   ]
  },
  {
   "cell_type": "code",
   "execution_count": 14,
   "metadata": {},
   "outputs": [],
   "source": [
    "dimacs.write(f\"p cnf 729 {8829 + len(preassigned_entries)}\\n\")\n",
    "\n",
    "# Write the preassigned entries to the file\n",
    "for entry in preassigned_entries:\n",
    "    dimacs.write(f\"{entry} 0\\n\")\n",
    "\n",
    "# There is at least one number in each entry\n",
    "for x in range(1, 10):\n",
    "    for y in range(1, 10):\n",
    "        for z in range(1, 10):\n",
    "            dimacs.write(f\"{s(x, y, z)} \")\n",
    "        dimacs.write(\"0\\n\")\n",
    "\n",
    "# Each number appears at most once in each row\n",
    "for y in range(1, 10):\n",
    "    for z in range(1, 10):\n",
    "        for x in range(1, 9):\n",
    "            for i in range(x + 1, 10):\n",
    "                dimacs.write(f\"{-s(x, y, z)} {-s(i, y, z)} 0\\n\")\n",
    "\n",
    "# Each number appears at most once in each column\n",
    "for x in range(1, 10):\n",
    "    for z in range(1, 10):\n",
    "        for y in range(1, 9):\n",
    "            for i in range(y + 1, 10):\n",
    "                dimacs.write(f\"{-s(x, y, z)} {-s(x, i, z)} 0\\n\")\n",
    "\n",
    "# Each number appears at most once in each 3x3 block\n",
    "for z in range(1, 10):\n",
    "    for i in range(0, 3):\n",
    "        for j in range(0, 3):\n",
    "            for x in range(1, 4):\n",
    "                for y in range(1, 4):\n",
    "                    for k in range(y + 1, 4):\n",
    "                        dimacs.write(\n",
    "                            f\"{-s(3 * i + x, 3 * j + y, z)} {-s(3 * i + x, 3 * j + k, z)} 0\\n\"\n",
    "                        )\n",
    "\n",
    "# Each number appears at most once in each 3x3 block\n",
    "for z in range(1, 10):\n",
    "    for i in range(0, 3):\n",
    "        for j in range(0, 3):\n",
    "            for x in range(1, 4):\n",
    "                for y in range(1, 4):\n",
    "                    for k in range(x + 1, 4):\n",
    "                        for l in range(1, 4):\n",
    "                            dimacs.write(\n",
    "                                f\"{-s(3 * i + x, 3 * j + y, z)} {-s(3 * i + k, 3 * j + l, z)} 0\\n\"\n",
    "                            )"
   ]
  },
  {
   "cell_type": "markdown",
   "metadata": {},
   "source": [
    "### Close files"
   ]
  },
  {
   "cell_type": "code",
   "execution_count": 15,
   "metadata": {},
   "outputs": [],
   "source": [
    "# Close the puzzle file\n",
    "puzzle.close()\n",
    "\n",
    "# Close the DIMACS file\n",
    "dimacs.close()"
   ]
  },
  {
   "cell_type": "code",
   "execution_count": null,
   "metadata": {},
   "outputs": [],
   "source": []
  }
 ],
 "metadata": {
  "kernelspec": {
   "display_name": "Python 3",
   "language": "python",
   "name": "python3"
  },
  "language_info": {
   "codemirror_mode": {
    "name": "ipython",
    "version": 3
   },
   "file_extension": ".py",
   "mimetype": "text/x-python",
   "name": "python",
   "nbconvert_exporter": "python",
   "pygments_lexer": "ipython3",
   "version": "3.7.3"
  }
 },
 "nbformat": 4,
 "nbformat_minor": 2
}
