{
 "cells": [
  {
   "cell_type": "markdown",
   "metadata": {},
   "source": [
    "### Get the name of the sudoku file"
   ]
  },
  {
   "cell_type": "code",
   "execution_count": 17,
   "metadata": {},
   "outputs": [
    {
     "name": "stdout",
     "output_type": "stream",
     "text": [
      "input a sudoku without extension sudoku1\n"
     ]
    }
   ],
   "source": [
    "txt = input(\"input a sudoku without extension \")"
   ]
  },
  {
   "cell_type": "markdown",
   "metadata": {},
   "source": [
    "### Open the sudoku file and  an output cnf file"
   ]
  },
  {
   "cell_type": "code",
   "execution_count": 18,
   "metadata": {},
   "outputs": [],
   "source": [
    "puzzle = open(txt + \".txt\", \"r\")\n",
    "dimacs = open(txt + \".cnf\", \"w\")"
   ]
  },
  {
   "cell_type": "markdown",
   "metadata": {},
   "source": [
    "###  A function return the index of vars"
   ]
  },
  {
   "cell_type": "code",
   "execution_count": 19,
   "metadata": {},
   "outputs": [],
   "source": [
    "def s(x, y, z):\n",
    "    return 100 * x + 10 * y + z"
   ]
  },
  {
   "cell_type": "markdown",
   "metadata": {},
   "source": [
    "### Read the puzzle and fill up the list for the preassigned_entries"
   ]
  },
  {
   "cell_type": "code",
   "execution_count": 20,
   "metadata": {},
   "outputs": [],
   "source": [
    "preassigned_entries = []\n",
    "\n",
    "row_number = 1\n",
    "column_number = 0\n",
    "\n",
    "for _ in range(1, 10):\n",
    "    line = puzzle.readline()\n",
    "    digits = line.split()\n",
    "    column_number = 0\n",
    "    for digit in digits:\n",
    "        column_number += 1\n",
    "        if digit != \"x\":\n",
    "            preassigned_entries.append(\n",
    "                s(row_number, column_number, int(digit))\n",
    "            )\n",
    "    row_number += 1"
   ]
  },
  {
   "cell_type": "markdown",
   "metadata": {},
   "source": [
    "### A DIMACS file begins with a line containing 'p' followed by 'cnf', the number of variables, and the number of clauses"
   ]
  },
  {
   "cell_type": "code",
   "execution_count": 21,
   "metadata": {},
   "outputs": [],
   "source": [
    "dimacs.write(f\"p cnf 729 {8829 + len(preassigned_entries)}\\n\")\n",
    "\n",
    "# There is at least one number in each entry\n",
    "for x in range(1, 10):\n",
    "    for y in range(1, 10):\n",
    "        for z in range(1, 10):\n",
    "            dimacs.write(f\"{s(x, y, z)} \")\n",
    "        dimacs.write(\"0\\n\")\n",
    "\n",
    "# Each number appears at most once in each row\n",
    "for y in range(1, 10):\n",
    "    for z in range(1, 10):\n",
    "        for x in range(1, 9):\n",
    "            for i in range(x + 1, 10):\n",
    "                dimacs.write(f\"{-s(x, y, z)} {-s(i, y, z)} 0\\n\")\n",
    "\n",
    "# Each number appears at most once in each column\n",
    "for x in range(1, 10):\n",
    "    for z in range(1, 10):\n",
    "        for y in range(1, 9):\n",
    "            for i in range(y + 1, 10):\n",
    "                dimacs.write(f\"{-s(x, y, z)} {-s(x, i, z)} 0\\n\")\n",
    "\n",
    "# Each number appears at most once in each 3x3 block\n",
    "for z in range(1, 10):\n",
    "    for i in range(0, 3):\n",
    "        for j in range(0, 3):\n",
    "            for x in range(1, 4):\n",
    "                for y in range(1, 4):\n",
    "                    for k in range(y + 1, 4):\n",
    "                        dimacs.write(\n",
    "                            f\"{-s(3 * i + x, 3 * j + y, z)} {-s(3 * i + x, 3 * j + k, z)} 0\\n\"\n",
    "                        )\n",
    "\n",
    "# Each number appears at most once in each 3x3 block\n",
    "for z in range(1, 10):\n",
    "    for i in range(0, 3):\n",
    "        for j in range(0, 3):\n",
    "            for x in range(1, 4):\n",
    "                for y in range(1, 4):\n",
    "                    for k in range(x + 1, 4):\n",
    "                        for l in range(1, 4):\n",
    "                            dimacs.write(\n",
    "                                f\"{-s(3 * i + x, 3 * j + y, z)} {-s(3 * i + k, 3 * j + l, z)} 0\\n\"\n",
    "                            )"
   ]
  },
  {
   "cell_type": "markdown",
   "metadata": {},
   "source": [
    "### Close files"
   ]
  },
  {
   "cell_type": "code",
   "execution_count": 22,
   "metadata": {},
   "outputs": [],
   "source": [
    "# Close the puzzle file\n",
    "puzzle.close()\n",
    "\n",
    "# Close the DIMACS file\n",
    "dimacs.close()"
   ]
  }
 ],
 "metadata": {
  "kernelspec": {
   "display_name": "Python 3",
   "language": "python",
   "name": "python3"
  },
  "language_info": {
   "codemirror_mode": {
    "name": "ipython",
    "version": 3
   },
   "file_extension": ".py",
   "mimetype": "text/x-python",
   "name": "python",
   "nbconvert_exporter": "python",
   "pygments_lexer": "ipython3",
   "version": "3.7.3"
  }
 },
 "nbformat": 4,
 "nbformat_minor": 2
}
