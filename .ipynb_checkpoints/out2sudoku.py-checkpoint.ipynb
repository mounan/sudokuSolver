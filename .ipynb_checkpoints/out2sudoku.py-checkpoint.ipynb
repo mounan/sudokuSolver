{
 "cells": [
  {
   "cell_type": "code",
   "execution_count": 100,
   "metadata": {},
   "outputs": [],
   "source": [
    "origin_result = open(\"out.txt\", \"r\")\n",
    "digits = origin_result.read()"
   ]
  },
  {
   "cell_type": "code",
   "execution_count": 101,
   "metadata": {},
   "outputs": [
    {
     "name": "stdout",
     "output_type": "stream",
     "text": [
      "[9, 7, 5, 6, 8, 4, 3, 2, 1, 1, 3, 8, 5, 7, 2, 9, 4, 6, 4, 6, 2, 9, 3, 1, 5, 7, 8, 3, 8, 1, 4, 6, 7, 2, 9, 5, 6, 2, 4, 3, 9, 5, 8, 1, 7, 7, 5, 9, 2, 1, 8, 4, 6, 3, 5, 4, 6, 7, 2, 3, 1, 8, 9, 8, 9, 3, 1, 4, 6, 7, 5, 2, 2, 1, 7, 8, 5, 9, 6, 3, 4]\n",
      "81\n"
     ]
    }
   ],
   "source": [
    "import re\n",
    "digits = re.sub(\"SAT\\\\n\",\"\",digits)\n",
    "digits = re.sub(\"0\\\\n\",\"\",digits)\n",
    "digits = re.sub(r\"-[0-9]*\",\"\",digits)\n",
    "digits = digits.split()\n",
    "digits = list(map(int, digits))\n",
    "for i in range(0, len(digits)):\n",
    "    digits[i] = digits[i] % 100 % 10\n",
    "print(digits)\n",
    "print(len(digits))"
   ]
  },
  {
   "cell_type": "code",
   "execution_count": 99,
   "metadata": {},
   "outputs": [],
   "source": [
    "ans = open(\"answer.txt\", \"w\")\n",
    "for i in range(0, len(digits)):\n",
    "    ans.write(str(digits[i]) + \" \")\n",
    "    if (i+1)%9 == 0:\n",
    "        ans.write(\"\\n\")"
   ]
  },
  {
   "cell_type": "code",
   "execution_count": null,
   "metadata": {},
   "outputs": [],
   "source": []
  },
  {
   "cell_type": "code",
   "execution_count": null,
   "metadata": {},
   "outputs": [],
   "source": []
  }
 ],
 "metadata": {
  "kernelspec": {
   "display_name": "Python 3",
   "language": "python",
   "name": "python3"
  },
  "language_info": {
   "codemirror_mode": {
    "name": "ipython",
    "version": 3
   },
   "file_extension": ".py",
   "mimetype": "text/x-python",
   "name": "python",
   "nbconvert_exporter": "python",
   "pygments_lexer": "ipython3",
   "version": "3.7.3"
  }
 },
 "nbformat": 4,
 "nbformat_minor": 2
}
